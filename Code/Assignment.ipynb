{
 "cells": [
  {
   "cell_type": "code",
   "execution_count": 1,
   "id": "c7aeec4f",
   "metadata": {},
   "outputs": [],
   "source": [
    "import requests as rq\n",
    "import pandas as pd\n",
    "from datetime import datetime as dt, timedelta as td\n",
    "import json as js"
   ]
  },
  {
   "cell_type": "code",
   "execution_count": 2,
   "id": "f6704acd",
   "metadata": {},
   "outputs": [],
   "source": [
    "pd.set_option('display.max_columns', 10)\n",
    "pd.set_option('display.width', 150)"
   ]
  },
  {
   "cell_type": "code",
   "execution_count": null,
   "id": "cf05ad2b",
   "metadata": {},
   "outputs": [
    {
     "name": "stdout",
     "output_type": "stream",
     "text": [
      "        value  percentage                       datetime\n",
      "0      123.83    0.661626  2024-01-01T00:00:00.000+01:00\n",
      "1      111.11    0.689268  2024-01-01T01:00:00.000+01:00\n",
      "2      110.77    0.699880  2024-01-01T02:00:00.000+01:00\n",
      "3      109.28    0.715277  2024-01-01T03:00:00.000+01:00\n",
      "4      110.16    0.721604  2024-01-01T04:00:00.000+01:00\n",
      "...       ...         ...                            ...\n",
      "10957  304.49    0.674725  2025-03-31T20:00:00.000+02:00\n",
      "10958  364.82    0.649065  2025-03-31T21:00:00.000+02:00\n",
      "10959  209.25    0.635825  2025-03-31T22:00:00.000+02:00\n",
      "10960  182.58    0.657733  2025-03-31T23:00:00.000+02:00\n",
      "10961  131.90    0.594412  2025-04-01T00:00:00.000+02:00\n",
      "\n",
      "[10962 rows x 3 columns]\n",
      "0 int64\n",
      "No NA values found in the dataframe.\n",
      "        value  percentage                   datetime\n",
      "0      123.83    0.661626  2024-01-01 00:00:00+01:00\n",
      "1      111.11    0.689268  2024-01-01 01:00:00+01:00\n",
      "2      110.77    0.699880  2024-01-01 02:00:00+01:00\n",
      "3      109.28    0.715277  2024-01-01 03:00:00+01:00\n",
      "4      110.16    0.721604  2024-01-01 04:00:00+01:00\n",
      "...       ...         ...                        ...\n",
      "10957  304.49    0.674725  2025-03-31 20:00:00+02:00\n",
      "10958  364.82    0.649065  2025-03-31 21:00:00+02:00\n",
      "10959  209.25    0.635825  2025-03-31 22:00:00+02:00\n",
      "10960  182.58    0.657733  2025-03-31 23:00:00+02:00\n",
      "10961  131.90    0.594412  2025-04-01 00:00:00+02:00\n",
      "\n",
      "[10962 rows x 3 columns]\n"
     ]
    },
    {
     "name": "stderr",
     "output_type": "stream",
     "text": [
      "/var/folders/lb/mmcr7_ys4554kcv8tfwj32b00000gn/T/ipykernel_14099/3135170908.py:12: FutureWarning: In a future version of pandas, parsing datetimes with mixed time zones will raise an error unless `utc=True`. Please specify `utc=True` to opt in to the new behaviour and silence this warning. To create a `Series` with mixed offsets and `object` dtype, please use `apply` and `datetime.datetime.strptime`\n",
      "  df[\"datetime\"] = pd.to_datetime(df[\"datetime\"])\n"
     ]
    }
   ],
   "source": [
    "url = \"https://raw.githubusercontent.com/tofrie03/ML_Assignment/refs/heads/main/Material/strompreise_spanien_2024-01-01%2000%3A00%3A00-2025-04-01%2000%3A00%3A00.csv\"\n",
    "\n",
    "test = \"test.csv\"\n",
    "\n",
    "df = pd.read_csv(url)\n",
    "\n",
    "print(df)\n",
    "\n",
    "def clean_data(df):\n",
    "    try:\n",
    "        # Ensures that the datetime column is in datetime-format\n",
    "        df[\"datetime\"] = pd.to_datetime(df[\"datetime\"])\n",
    "\n",
    "        # Counts the number of na values in each column\n",
    "        value_na, percentage_na, datetime_na = pd.isna(df).sum()\n",
    "        if value_na != 0:\n",
    "            df[\"value\"].fillna(df[\"value\"].mean(), inplace=True)\n",
    "            print(f\"Filled NA values in 'value' column with mean: {df['value'].mean()}\")\n",
    "        if percentage_na != 0:\n",
    "            df[\"percentage\"].fillna(df[\"percentage\"].mean(), inplace=True)\n",
    "            print(f\"Filled NA values in 'percentage' column with mean: {df['percentage'].mean()}\")\n",
    "        total_na = pd.isna(df).sum().sum()\n",
    "        print(total_na, total_na.dtype)\n",
    "        if total_na != 0:\n",
    "            print(f\"Total NA values in the dataframe: {total_na}\")\n",
    "        else:\n",
    "            print(\"No NA values found in the dataframe.\")\n",
    "    except Exception as e:\n",
    "        return e\n",
    "        \n",
    "\n",
    "clean_data(df)\n",
    "\n",
    "print(df)"
   ]
  },
  {
   "cell_type": "code",
   "execution_count": null,
   "id": "5aceab51",
   "metadata": {},
   "outputs": [],
   "source": []
  }
 ],
 "metadata": {
  "kernelspec": {
   "display_name": "Python 3",
   "language": "python",
   "name": "python3"
  },
  "language_info": {
   "codemirror_mode": {
    "name": "ipython",
    "version": 3
   },
   "file_extension": ".py",
   "mimetype": "text/x-python",
   "name": "python",
   "nbconvert_exporter": "python",
   "pygments_lexer": "ipython3",
   "version": "3.13.2"
  }
 },
 "nbformat": 4,
 "nbformat_minor": 5
}
