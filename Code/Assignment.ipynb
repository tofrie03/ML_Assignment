{
 "cells": [
  {
   "cell_type": "code",
   "execution_count": null,
   "id": "c7aeec4f",
   "metadata": {},
   "outputs": [],
   "source": [
    "import requests as rq\n",
    "import pandas as pd\n",
    "from datetime import datetime as dt, timedelta as td\n",
    "import json as js"
   ]
  },
  {
   "cell_type": "code",
   "execution_count": null,
   "id": "f6704acd",
   "metadata": {},
   "outputs": [],
   "source": [
    "pd.set_option('display.max_columns', 10)\n",
    "pd.set_option('display.width', 150)"
   ]
  }
 ],
 "metadata": {
  "kernelspec": {
   "display_name": "Python 3",
   "language": "python",
   "name": "python3"
  },
  "language_info": {
   "name": "python",
   "version": "3.13.2"
  }
 },
 "nbformat": 4,
 "nbformat_minor": 5
}
