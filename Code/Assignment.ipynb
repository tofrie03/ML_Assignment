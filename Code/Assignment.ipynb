{
 "cells": [
  {
   "cell_type": "code",
   "execution_count": 1,
   "id": "c7aeec4f",
   "metadata": {},
   "outputs": [],
   "source": [
    "import requests as rq\n",
    "import pandas as pd\n",
    "from datetime import datetime as dt, timedelta as td\n",
    "import json as js"
   ]
  },
  {
   "cell_type": "code",
   "execution_count": 2,
   "id": "f6704acd",
   "metadata": {},
   "outputs": [],
   "source": [
    "pd.set_option('display.max_columns', 10)\n",
    "pd.set_option('display.width', 150)"
   ]
  },
  {
   "cell_type": "code",
   "execution_count": 3,
   "id": "cf05ad2b",
   "metadata": {},
   "outputs": [
    {
     "name": "stdout",
     "output_type": "stream",
     "text": [
      "    value  percentage                       datetime\n",
      "0  123.83    0.661626  2024-01-01T00:00:00.000+01:00\n",
      "1  111.11    0.689268  2024-01-01T01:00:00.000+01:00\n",
      "2  110.77    0.699880  2024-01-01T02:00:00.000+01:00\n",
      "3  109.28    0.715277  2024-01-01T03:00:00.000+01:00\n",
      "4  110.16    0.721604  2024-01-01T04:00:00.000+01:00\n",
      "<class 'pandas.core.frame.DataFrame'>\n",
      "RangeIndex: 10962 entries, 0 to 10961\n",
      "Data columns (total 3 columns):\n",
      " #   Column      Non-Null Count  Dtype  \n",
      "---  ------      --------------  -----  \n",
      " 0   value       10962 non-null  float64\n",
      " 1   percentage  10962 non-null  float64\n",
      " 2   datetime    10962 non-null  object \n",
      "dtypes: float64(2), object(1)\n",
      "memory usage: 257.1+ KB\n",
      "None\n"
     ]
    }
   ],
   "source": [
    "url = \"https://raw.githubusercontent.com/tofrie03/ML_Assignment/refs/heads/main/Material/strompreise_spanien_2024-01-01%2000%3A00%3A00-2025-04-01%2000%3A00%3A00.csv\"\n",
    "\n",
    "df = pd.read_csv(url)\n",
    "\n",
    "print(df.head())\n",
    "print(df.info())"
   ]
  },
  {
   "cell_type": "code",
   "execution_count": null,
   "id": "cc68c0f9",
   "metadata": {},
   "outputs": [],
   "source": []
  }
 ],
 "metadata": {
  "kernelspec": {
   "display_name": "Python 3",
   "language": "python",
   "name": "python3"
  },
  "language_info": {
   "codemirror_mode": {
    "name": "ipython",
    "version": 3
   },
   "file_extension": ".py",
   "mimetype": "text/x-python",
   "name": "python",
   "nbconvert_exporter": "python",
   "pygments_lexer": "ipython3",
   "version": "3.13.2"
  }
 },
 "nbformat": 4,
 "nbformat_minor": 5
}
